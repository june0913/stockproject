{
 "cells": [
  {
   "cell_type": "code",
   "execution_count": 7,
   "id": "4350d99c-2930-4b82-9c1d-20bf31c39a38",
   "metadata": {},
   "outputs": [
    {
     "name": "stdout",
     "output_type": "stream",
     "text": [
      "Collecting mysqlclient\n",
      "  Downloading mysqlclient-2.2.4-cp311-cp311-win_amd64.whl.metadata (4.6 kB)\n",
      "Downloading mysqlclient-2.2.4-cp311-cp311-win_amd64.whl (203 kB)\n",
      "   ---------------------------------------- 0.0/203.2 kB ? eta -:--:--\n",
      "   ---------------------------------------- 0.0/203.2 kB ? eta -:--:--\n",
      "   ------- ------------------------------- 41.0/203.2 kB 991.0 kB/s eta 0:00:01\n",
      "   ---------------------------------------- 203.2/203.2 kB 2.5 MB/s eta 0:00:00\n",
      "Installing collected packages: mysqlclient\n",
      "Successfully installed mysqlclient-2.2.4\n",
      "Note: you may need to restart the kernel to use updated packages.\n"
     ]
    }
   ],
   "source": [
    "pip install mysqlclient"
   ]
  },
  {
   "cell_type": "code",
   "execution_count": 15,
   "id": "7130446a-bdd3-4517-8b09-fc45e36eb0f3",
   "metadata": {},
   "outputs": [],
   "source": [
    "import pymysql\n",
    "pymysql.install_as_MySQLdb()"
   ]
  },
  {
   "cell_type": "code",
   "execution_count": 13,
   "id": "ae0bbac4-a0a1-4c05-bf94-0d285fd62164",
   "metadata": {},
   "outputs": [
    {
     "name": "stdout",
     "output_type": "stream",
     "text": [
      "Requirement already satisfied: SQLObject in c:\\users\\user\\anaconda3\\lib\\site-packages (3.11.0)\n",
      "Requirement already satisfied: pandas in c:\\users\\user\\anaconda3\\lib\\site-packages (2.1.4)\n",
      "Requirement already satisfied: yfinance in c:\\users\\user\\anaconda3\\lib\\site-packages (0.2.37)\n",
      "Requirement already satisfied: requests in c:\\users\\user\\anaconda3\\lib\\site-packages (2.31.0)\n",
      "Requirement already satisfied: PyDispatcher>=2.0.4 in c:\\users\\user\\anaconda3\\lib\\site-packages (from SQLObject) (2.0.5)\n",
      "Requirement already satisfied: FormEncode>=1.3.1 in c:\\users\\user\\anaconda3\\lib\\site-packages (from SQLObject) (2.1.0)\n",
      "Requirement already satisfied: numpy<2,>=1.23.2 in c:\\users\\user\\anaconda3\\lib\\site-packages (from pandas) (1.26.4)\n",
      "Requirement already satisfied: python-dateutil>=2.8.2 in c:\\users\\user\\anaconda3\\lib\\site-packages (from pandas) (2.8.2)\n",
      "Requirement already satisfied: pytz>=2020.1 in c:\\users\\user\\anaconda3\\lib\\site-packages (from pandas) (2023.3.post1)\n",
      "Requirement already satisfied: tzdata>=2022.1 in c:\\users\\user\\anaconda3\\lib\\site-packages (from pandas) (2023.3)\n",
      "Requirement already satisfied: multitasking>=0.0.7 in c:\\users\\user\\anaconda3\\lib\\site-packages (from yfinance) (0.0.11)\n",
      "Requirement already satisfied: lxml>=4.9.1 in c:\\users\\user\\anaconda3\\lib\\site-packages (from yfinance) (4.9.3)\n",
      "Requirement already satisfied: appdirs>=1.4.4 in c:\\users\\user\\anaconda3\\lib\\site-packages (from yfinance) (1.4.4)\n",
      "Requirement already satisfied: frozendict>=2.3.4 in c:\\users\\user\\anaconda3\\lib\\site-packages (from yfinance) (2.4.0)\n",
      "Requirement already satisfied: peewee>=3.16.2 in c:\\users\\user\\anaconda3\\lib\\site-packages (from yfinance) (3.17.1)\n",
      "Requirement already satisfied: beautifulsoup4>=4.11.1 in c:\\users\\user\\anaconda3\\lib\\site-packages (from yfinance) (4.12.2)\n",
      "Requirement already satisfied: html5lib>=1.1 in c:\\users\\user\\anaconda3\\lib\\site-packages (from yfinance) (1.1)\n",
      "Requirement already satisfied: charset-normalizer<4,>=2 in c:\\users\\user\\anaconda3\\lib\\site-packages (from requests) (2.0.4)\n",
      "Requirement already satisfied: idna<4,>=2.5 in c:\\users\\user\\anaconda3\\lib\\site-packages (from requests) (3.4)\n",
      "Requirement already satisfied: urllib3<3,>=1.21.1 in c:\\users\\user\\anaconda3\\lib\\site-packages (from requests) (2.0.7)\n",
      "Requirement already satisfied: certifi>=2017.4.17 in c:\\users\\user\\anaconda3\\lib\\site-packages (from requests) (2024.2.2)\n",
      "Requirement already satisfied: soupsieve>1.2 in c:\\users\\user\\anaconda3\\lib\\site-packages (from beautifulsoup4>=4.11.1->yfinance) (2.5)\n",
      "Requirement already satisfied: six>=1.9 in c:\\users\\user\\anaconda3\\lib\\site-packages (from html5lib>=1.1->yfinance) (1.16.0)\n",
      "Requirement already satisfied: webencodings in c:\\users\\user\\anaconda3\\lib\\site-packages (from html5lib>=1.1->yfinance) (0.5.1)\n",
      "Note: you may need to restart the kernel to use updated packages.\n"
     ]
    }
   ],
   "source": [
    "pip install SQLObject pandas yfinance requests"
   ]
  },
  {
   "cell_type": "code",
   "execution_count": 2,
   "id": "e5b4eb1b-b679-4998-91c4-6d96d04ed2b9",
   "metadata": {},
   "outputs": [
    {
     "ename": "TypeError",
     "evalue": "You must give a where clause or pass in None to indicate no where clause",
     "output_type": "error",
     "traceback": [
      "\u001b[1;31m---------------------------------------------------------------------------\u001b[0m",
      "\u001b[1;31mTypeError\u001b[0m                                 Traceback (most recent call last)",
      "Cell \u001b[1;32mIn[2], line 1\u001b[0m\n\u001b[1;32m----> 1\u001b[0m Companies\u001b[38;5;241m.\u001b[39mdeleteMany()\n",
      "File \u001b[1;32m~\\anaconda3\\Lib\\site-packages\\sqlobject\\main.py:1710\u001b[0m, in \u001b[0;36mSQLObject.deleteMany\u001b[1;34m(cls, where, connection)\u001b[0m\n\u001b[0;32m   1707\u001b[0m \u001b[38;5;129m@classmethod\u001b[39m\n\u001b[0;32m   1708\u001b[0m \u001b[38;5;28;01mdef\u001b[39;00m \u001b[38;5;21mdeleteMany\u001b[39m(\u001b[38;5;28mcls\u001b[39m, where\u001b[38;5;241m=\u001b[39mNoDefault, connection\u001b[38;5;241m=\u001b[39m\u001b[38;5;28;01mNone\u001b[39;00m):\n\u001b[0;32m   1709\u001b[0m     conn \u001b[38;5;241m=\u001b[39m connection \u001b[38;5;129;01mor\u001b[39;00m \u001b[38;5;28mcls\u001b[39m\u001b[38;5;241m.\u001b[39m_connection\n\u001b[1;32m-> 1710\u001b[0m     conn\u001b[38;5;241m.\u001b[39mquery(conn\u001b[38;5;241m.\u001b[39msqlrepr(sqlbuilder\u001b[38;5;241m.\u001b[39mDelete(\u001b[38;5;28mcls\u001b[39m\u001b[38;5;241m.\u001b[39msqlmeta\u001b[38;5;241m.\u001b[39mtable, where)))\n",
      "File \u001b[1;32m~\\anaconda3\\Lib\\site-packages\\sqlobject\\sqlbuilder.py:980\u001b[0m, in \u001b[0;36mDelete.__init__\u001b[1;34m(self, table, where)\u001b[0m\n\u001b[0;32m    978\u001b[0m \u001b[38;5;28mself\u001b[39m\u001b[38;5;241m.\u001b[39mtable \u001b[38;5;241m=\u001b[39m table\n\u001b[0;32m    979\u001b[0m \u001b[38;5;28;01mif\u001b[39;00m where \u001b[38;5;129;01mis\u001b[39;00m NoDefault:\n\u001b[1;32m--> 980\u001b[0m     \u001b[38;5;28;01mraise\u001b[39;00m \u001b[38;5;167;01mTypeError\u001b[39;00m(\n\u001b[0;32m    981\u001b[0m         \u001b[38;5;124m\"\u001b[39m\u001b[38;5;124mYou must give a where clause or pass in None \u001b[39m\u001b[38;5;124m\"\u001b[39m\n\u001b[0;32m    982\u001b[0m         \u001b[38;5;124m\"\u001b[39m\u001b[38;5;124mto indicate no where clause\u001b[39m\u001b[38;5;124m\"\u001b[39m)\n\u001b[0;32m    983\u001b[0m \u001b[38;5;28mself\u001b[39m\u001b[38;5;241m.\u001b[39mwhereClause \u001b[38;5;241m=\u001b[39m where\n",
      "\u001b[1;31mTypeError\u001b[0m: You must give a where clause or pass in None to indicate no where clause"
     ]
    }
   ],
   "source": [
    "Companies.deleteMany()  # 모든 Companies 데이터를 삭제"
   ]
  },
  {
   "cell_type": "code",
   "execution_count": 1,
   "id": "57ccd6d2-41a4-4529-8a65-3eeb2d8b86dd",
   "metadata": {},
   "outputs": [
    {
     "ename": "DuplicateEntryError",
     "evalue": "Duplicate entry 'MSFT' for key 'companies.PRIMARY'",
     "output_type": "error",
     "traceback": [
      "\u001b[1;31m---------------------------------------------------------------------------\u001b[0m",
      "\u001b[1;31mIntegrityError\u001b[0m                            Traceback (most recent call last)",
      "File \u001b[1;32m~\\anaconda3\\Lib\\site-packages\\sqlobject\\mysql\\mysqlconnection.py:278\u001b[0m, in \u001b[0;36mMySQLConnection._executeRetry\u001b[1;34m(self, conn, cursor, query)\u001b[0m\n\u001b[0;32m    277\u001b[0m \u001b[38;5;28;01mtry\u001b[39;00m:\n\u001b[1;32m--> 278\u001b[0m     \u001b[38;5;28;01mreturn\u001b[39;00m cursor\u001b[38;5;241m.\u001b[39mexecute(query)\n\u001b[0;32m    279\u001b[0m \u001b[38;5;28;01mexcept\u001b[39;00m \u001b[38;5;28mself\u001b[39m\u001b[38;5;241m.\u001b[39mmodule\u001b[38;5;241m.\u001b[39mOperationalError \u001b[38;5;28;01mas\u001b[39;00m e:\n",
      "File \u001b[1;32m~\\anaconda3\\Lib\\site-packages\\MySQLdb\\cursors.py:179\u001b[0m, in \u001b[0;36mBaseCursor.execute\u001b[1;34m(self, query, args)\u001b[0m\n\u001b[0;32m    178\u001b[0m \u001b[38;5;28;01massert\u001b[39;00m \u001b[38;5;28misinstance\u001b[39m(mogrified_query, (\u001b[38;5;28mbytes\u001b[39m, \u001b[38;5;28mbytearray\u001b[39m))\n\u001b[1;32m--> 179\u001b[0m res \u001b[38;5;241m=\u001b[39m \u001b[38;5;28mself\u001b[39m\u001b[38;5;241m.\u001b[39m_query(mogrified_query)\n\u001b[0;32m    180\u001b[0m \u001b[38;5;28;01mreturn\u001b[39;00m res\n",
      "File \u001b[1;32m~\\anaconda3\\Lib\\site-packages\\MySQLdb\\cursors.py:330\u001b[0m, in \u001b[0;36mBaseCursor._query\u001b[1;34m(self, q)\u001b[0m\n\u001b[0;32m    329\u001b[0m \u001b[38;5;28mself\u001b[39m\u001b[38;5;241m.\u001b[39mlastrowid \u001b[38;5;241m=\u001b[39m \u001b[38;5;28;01mNone\u001b[39;00m\n\u001b[1;32m--> 330\u001b[0m db\u001b[38;5;241m.\u001b[39mquery(q)\n\u001b[0;32m    331\u001b[0m \u001b[38;5;28mself\u001b[39m\u001b[38;5;241m.\u001b[39m_do_get_result(db)\n",
      "File \u001b[1;32m~\\anaconda3\\Lib\\site-packages\\MySQLdb\\connections.py:261\u001b[0m, in \u001b[0;36mConnection.query\u001b[1;34m(self, query)\u001b[0m\n\u001b[0;32m    260\u001b[0m     query \u001b[38;5;241m=\u001b[39m \u001b[38;5;28mbytes\u001b[39m(query)\n\u001b[1;32m--> 261\u001b[0m _mysql\u001b[38;5;241m.\u001b[39mconnection\u001b[38;5;241m.\u001b[39mquery(\u001b[38;5;28mself\u001b[39m, query)\n",
      "\u001b[1;31mIntegrityError\u001b[0m: (1062, \"Duplicate entry 'MSFT' for key 'companies.PRIMARY'\")",
      "\nDuring handling of the above exception, another exception occurred:\n",
      "\u001b[1;31mDuplicateEntryError\u001b[0m                       Traceback (most recent call last)",
      "Cell \u001b[1;32mIn[1], line 114\u001b[0m\n\u001b[0;32m    111\u001b[0m         Companies(symbol\u001b[38;5;241m=\u001b[39msymbol, companyName\u001b[38;5;241m=\u001b[39mcompanyName,\n\u001b[0;32m    112\u001b[0m                   industry\u001b[38;5;241m=\u001b[39mindustry, sector\u001b[38;5;241m=\u001b[39msector)\n\u001b[0;32m    113\u001b[0m \u001b[38;5;66;03m# 함수 호출 유지\u001b[39;00m\n\u001b[1;32m--> 114\u001b[0m save_companies_data()\n\u001b[0;32m    115\u001b[0m save_stock_prices()\n\u001b[0;32m    116\u001b[0m save_all_news()\n",
      "Cell \u001b[1;32mIn[1], line 62\u001b[0m, in \u001b[0;36msave_companies_data\u001b[1;34m()\u001b[0m\n\u001b[0;32m     60\u001b[0m stock \u001b[38;5;241m=\u001b[39m yf\u001b[38;5;241m.\u001b[39mTicker(row[\u001b[38;5;124m'\u001b[39m\u001b[38;5;124mSymbol\u001b[39m\u001b[38;5;124m'\u001b[39m])\n\u001b[0;32m     61\u001b[0m info \u001b[38;5;241m=\u001b[39m stock\u001b[38;5;241m.\u001b[39minfo\n\u001b[1;32m---> 62\u001b[0m Companies(symbol\u001b[38;5;241m=\u001b[39minfo\u001b[38;5;241m.\u001b[39mget(\u001b[38;5;124m\"\u001b[39m\u001b[38;5;124msymbol\u001b[39m\u001b[38;5;124m\"\u001b[39m), companyName\u001b[38;5;241m=\u001b[39minfo\u001b[38;5;241m.\u001b[39mget(\u001b[38;5;124m\"\u001b[39m\u001b[38;5;124mlongName\u001b[39m\u001b[38;5;124m\"\u001b[39m),\n\u001b[0;32m     63\u001b[0m            industry\u001b[38;5;241m=\u001b[39minfo\u001b[38;5;241m.\u001b[39mget(\u001b[38;5;124m\"\u001b[39m\u001b[38;5;124mindustry\u001b[39m\u001b[38;5;124m\"\u001b[39m), sector\u001b[38;5;241m=\u001b[39minfo\u001b[38;5;241m.\u001b[39mget(\u001b[38;5;124m\"\u001b[39m\u001b[38;5;124msector\u001b[39m\u001b[38;5;124m\"\u001b[39m))\n",
      "File \u001b[1;32m~\\anaconda3\\Lib\\site-packages\\sqlobject\\main.py:1309\u001b[0m, in \u001b[0;36mSQLObject.__init__\u001b[1;34m(self, **kw)\u001b[0m\n\u001b[0;32m   1306\u001b[0m \u001b[38;5;28;01melse\u001b[39;00m:\n\u001b[0;32m   1307\u001b[0m     \u001b[38;5;28mid\u001b[39m \u001b[38;5;241m=\u001b[39m \u001b[38;5;28;01mNone\u001b[39;00m\n\u001b[1;32m-> 1309\u001b[0m \u001b[38;5;28mself\u001b[39m\u001b[38;5;241m.\u001b[39m_create(\u001b[38;5;28mid\u001b[39m, \u001b[38;5;241m*\u001b[39m\u001b[38;5;241m*\u001b[39mkw)\n\u001b[0;32m   1311\u001b[0m \u001b[38;5;28;01mfor\u001b[39;00m func \u001b[38;5;129;01min\u001b[39;00m post_funcs:\n\u001b[0;32m   1312\u001b[0m     func(\u001b[38;5;28mself\u001b[39m)\n",
      "File \u001b[1;32m~\\anaconda3\\Lib\\site-packages\\sqlobject\\main.py:1360\u001b[0m, in \u001b[0;36mSQLObject._create\u001b[1;34m(self, id, **kw)\u001b[0m\n\u001b[0;32m   1357\u001b[0m \u001b[38;5;28mself\u001b[39m\u001b[38;5;241m.\u001b[39mset(\u001b[38;5;241m*\u001b[39m\u001b[38;5;241m*\u001b[39mkw)\n\u001b[0;32m   1359\u001b[0m \u001b[38;5;66;03m# Then we finalize the process:\u001b[39;00m\n\u001b[1;32m-> 1360\u001b[0m \u001b[38;5;28mself\u001b[39m\u001b[38;5;241m.\u001b[39m_SO_finishCreate(\u001b[38;5;28mid\u001b[39m)\n",
      "File \u001b[1;32m~\\anaconda3\\Lib\\site-packages\\sqlobject\\main.py:1385\u001b[0m, in \u001b[0;36mSQLObject._SO_finishCreate\u001b[1;34m(self, id)\u001b[0m\n\u001b[0;32m   1380\u001b[0m \u001b[38;5;28;01mdel\u001b[39;00m \u001b[38;5;28mself\u001b[39m\u001b[38;5;241m.\u001b[39msqlmeta\u001b[38;5;241m.\u001b[39m_creating\n\u001b[0;32m   1382\u001b[0m \u001b[38;5;66;03m# Do the insert -- most of the SQL in this case is left\u001b[39;00m\n\u001b[0;32m   1383\u001b[0m \u001b[38;5;66;03m# up to DBConnection, since getting a new ID is\u001b[39;00m\n\u001b[0;32m   1384\u001b[0m \u001b[38;5;66;03m# non-standard.\u001b[39;00m\n\u001b[1;32m-> 1385\u001b[0m \u001b[38;5;28mid\u001b[39m \u001b[38;5;241m=\u001b[39m \u001b[38;5;28mself\u001b[39m\u001b[38;5;241m.\u001b[39m_connection\u001b[38;5;241m.\u001b[39mqueryInsertID(\u001b[38;5;28mself\u001b[39m,\n\u001b[0;32m   1386\u001b[0m                                     \u001b[38;5;28mid\u001b[39m, names, values)\n\u001b[0;32m   1387\u001b[0m cache \u001b[38;5;241m=\u001b[39m \u001b[38;5;28mself\u001b[39m\u001b[38;5;241m.\u001b[39m_connection\u001b[38;5;241m.\u001b[39mcache\n\u001b[0;32m   1388\u001b[0m cache\u001b[38;5;241m.\u001b[39mcreated(\u001b[38;5;28mid\u001b[39m, \u001b[38;5;28mself\u001b[39m\u001b[38;5;241m.\u001b[39m\u001b[38;5;18m__class__\u001b[39m, \u001b[38;5;28mself\u001b[39m)\n",
      "File \u001b[1;32m~\\anaconda3\\Lib\\site-packages\\sqlobject\\dbconnection.py:492\u001b[0m, in \u001b[0;36mDBAPI.queryInsertID\u001b[1;34m(self, soInstance, id, names, values)\u001b[0m\n\u001b[0;32m    491\u001b[0m \u001b[38;5;28;01mdef\u001b[39;00m \u001b[38;5;21mqueryInsertID\u001b[39m(\u001b[38;5;28mself\u001b[39m, soInstance, \u001b[38;5;28mid\u001b[39m, names, values):\n\u001b[1;32m--> 492\u001b[0m     \u001b[38;5;28;01mreturn\u001b[39;00m \u001b[38;5;28mself\u001b[39m\u001b[38;5;241m.\u001b[39m_runWithConnection(\u001b[38;5;28mself\u001b[39m\u001b[38;5;241m.\u001b[39m_queryInsertID, soInstance, \u001b[38;5;28mid\u001b[39m,\n\u001b[0;32m    493\u001b[0m                                    names, values)\n",
      "File \u001b[1;32m~\\anaconda3\\Lib\\site-packages\\sqlobject\\dbconnection.py:342\u001b[0m, in \u001b[0;36mDBAPI._runWithConnection\u001b[1;34m(self, meth, *args)\u001b[0m\n\u001b[0;32m    340\u001b[0m conn \u001b[38;5;241m=\u001b[39m \u001b[38;5;28mself\u001b[39m\u001b[38;5;241m.\u001b[39mgetConnection()\n\u001b[0;32m    341\u001b[0m \u001b[38;5;28;01mtry\u001b[39;00m:\n\u001b[1;32m--> 342\u001b[0m     val \u001b[38;5;241m=\u001b[39m meth(conn, \u001b[38;5;241m*\u001b[39margs)\n\u001b[0;32m    343\u001b[0m \u001b[38;5;28;01mfinally\u001b[39;00m:\n\u001b[0;32m    344\u001b[0m     \u001b[38;5;28mself\u001b[39m\u001b[38;5;241m.\u001b[39mreleaseConnection(conn)\n",
      "File \u001b[1;32m~\\anaconda3\\Lib\\site-packages\\sqlobject\\mysql\\mysqlconnection.py:327\u001b[0m, in \u001b[0;36mMySQLConnection._queryInsertID\u001b[1;34m(self, conn, soInstance, id, names, values)\u001b[0m\n\u001b[0;32m    325\u001b[0m \u001b[38;5;28;01mif\u001b[39;00m \u001b[38;5;28mself\u001b[39m\u001b[38;5;241m.\u001b[39mdebug:\n\u001b[0;32m    326\u001b[0m     \u001b[38;5;28mself\u001b[39m\u001b[38;5;241m.\u001b[39mprintDebug(conn, q, \u001b[38;5;124m'\u001b[39m\u001b[38;5;124mQueryIns\u001b[39m\u001b[38;5;124m'\u001b[39m)\n\u001b[1;32m--> 327\u001b[0m \u001b[38;5;28mself\u001b[39m\u001b[38;5;241m.\u001b[39m_executeRetry(conn, c, q)\n\u001b[0;32m    328\u001b[0m \u001b[38;5;28;01mif\u001b[39;00m \u001b[38;5;28mid\u001b[39m \u001b[38;5;129;01mis\u001b[39;00m \u001b[38;5;28;01mNone\u001b[39;00m:\n\u001b[0;32m    329\u001b[0m     \u001b[38;5;28;01mtry\u001b[39;00m:\n",
      "File \u001b[1;32m~\\anaconda3\\Lib\\site-packages\\sqlobject\\mysql\\mysqlconnection.py:293\u001b[0m, in \u001b[0;36mMySQLConnection._executeRetry\u001b[1;34m(self, conn, cursor, query)\u001b[0m\n\u001b[0;32m    291\u001b[0m msg \u001b[38;5;241m=\u001b[39m ErrorMessage(e)\n\u001b[0;32m    292\u001b[0m \u001b[38;5;28;01mif\u001b[39;00m e\u001b[38;5;241m.\u001b[39margs[\u001b[38;5;241m0\u001b[39m] \u001b[38;5;241m==\u001b[39m \u001b[38;5;28mself\u001b[39m\u001b[38;5;241m.\u001b[39mER_DUP_ENTRY:\n\u001b[1;32m--> 293\u001b[0m     \u001b[38;5;28;01mraise\u001b[39;00m dberrors\u001b[38;5;241m.\u001b[39mDuplicateEntryError(msg)\n\u001b[0;32m    294\u001b[0m \u001b[38;5;28;01melif\u001b[39;00m \u001b[38;5;28misinstance\u001b[39m(e\u001b[38;5;241m.\u001b[39margs[\u001b[38;5;241m0\u001b[39m], \u001b[38;5;28mstr\u001b[39m) \\\n\u001b[0;32m    295\u001b[0m         \u001b[38;5;129;01mand\u001b[39;00m e\u001b[38;5;241m.\u001b[39margs[\u001b[38;5;241m0\u001b[39m]\u001b[38;5;241m.\u001b[39mstartswith(\u001b[38;5;124m'\u001b[39m\u001b[38;5;124mDuplicate\u001b[39m\u001b[38;5;124m'\u001b[39m):\n\u001b[0;32m    296\u001b[0m     \u001b[38;5;28;01mraise\u001b[39;00m dberrors\u001b[38;5;241m.\u001b[39mDuplicateEntryError(msg)\n",
      "\u001b[1;31mDuplicateEntryError\u001b[0m: Duplicate entry 'MSFT' for key 'companies.PRIMARY'"
     ]
    }
   ],
   "source": [
    "from sqlobject import SQLObject, sqlhub, connectionForURI\n",
    "from sqlobject.col import StringCol, DecimalCol, DateCol\n",
    "import pandas as pd\n",
    "import yfinance as yf\n",
    "import requests\n",
    "\n",
    "# 데이터베이스 설정\n",
    "db_user = 'root'\n",
    "db_pass = '43qjsrnfjddl!@'\n",
    "db_host = 'localhost'\n",
    "db_name = 'sp500_db'\n",
    "connection_string = f'mysql://{db_user}:{db_pass}@{db_host}/{db_name}'\n",
    "sqlhub.processConnection = connectionForURI(connection_string)\n",
    "\n",
    "# 테이블 정의 - 각 필드에 적절한 size, precision 및 scale 추가\n",
    "class Companies(SQLObject):\n",
    "    _idName = 'symbol'  # 기본 키로 사용될 열의 이름을 'symbol'로 설정\n",
    "    symbol = StringCol(length=10, unique=True, alternateID=True)\n",
    "    companyName = StringCol(length=255, dbName=\"companyName\")\n",
    "    industry = StringCol(length=255)\n",
    "    sector = StringCol(length=255)\n",
    "\n",
    "class StockPrices(SQLObject):\n",
    "    symbol = StringCol(length=10)\n",
    "    name = StringCol(length=255)\n",
    "    sector = StringCol(length=255)\n",
    "    country = StringCol(length=255)\n",
    "\n",
    "class NewsArticles(SQLObject):\n",
    "    symbol = StringCol(length=10)\n",
    "    company = StringCol(length=255)\n",
    "    title = StringCol(varchar=False)  # 긴 텍스트를 위해 올바르게 조정됨\n",
    "    date = DateCol()\n",
    "    url = StringCol(length=255)\n",
    "\n",
    "class EnterpriseData(SQLObject):\n",
    "    symbol = StringCol(length=10)\n",
    "    companyName = StringCol(length=255)\n",
    "    industry = StringCol(length=255)\n",
    "    sector = StringCol(length=255)\n",
    "    netIncomeToCommon = DecimalCol(size=10, precision=2)\n",
    "    totalRevenue = DecimalCol(size=10, precision=2)\n",
    "    ebitda = DecimalCol(size=10, precision=2)\n",
    "    totalDebt = DecimalCol(size=10, precision=2)\n",
    "    currentRatio = DecimalCol(size=10, precision=2)\n",
    "    returnOnAssets = DecimalCol(size=10, precision=2)\n",
    "    returnOnEquity = DecimalCol(size=10, precision=2)\n",
    "    grossMargins = DecimalCol(size=10, precision=2)\n",
    "    operatingMargins = DecimalCol(size=10, precision=2)\n",
    "\n",
    "# 테이블 생성 코드 유지\n",
    "Companies.createTable(ifNotExists=True)\n",
    "StockPrices.createTable(ifNotExists=True)\n",
    "NewsArticles.createTable(ifNotExists=True)\n",
    "EnterpriseData.createTable(ifNotExists=True)\n",
    "\n",
    "def save_companies_data():\n",
    "    sp500 = pd.read_csv('./SP500_Companies.csv')\n",
    "    for index, row in sp500.iterrows():\n",
    "        stock = yf.Ticker(row['Symbol'])\n",
    "        info = stock.info\n",
    "        Companies(symbol=info.get(\"symbol\"), companyName=info.get(\"longName\"),\n",
    "                   industry=info.get(\"industry\"), sector=info.get(\"sector\"))\n",
    "\n",
    "def save_stock_prices():\n",
    "    sp500 = pd.read_csv('./SP500_Companies.csv')\n",
    "    for index, row in sp500.iterrows():\n",
    "        stock = yf.Ticker(row['Symbol'])\n",
    "        info = stock.info\n",
    "        StockPrices(symbol=row['Symbol'], name=info.get('shortName'),\n",
    "                     sector=info.get('sector'), country=info.get('country'))\n",
    "\n",
    "def fetch_news(api_key, symbol, companyName, from_date, to_date, language='en'):\n",
    "    query = f'\"{symbol}\" OR \"{companyName}\"'\n",
    "    url = 'https://newsapi.org/v2/everything'\n",
    "    params = {'q': query, 'from': from_date, 'to': to_date, 'language': language, 'sortBy': 'publishedAt', 'apiKey': api_key}\n",
    "    response = requests.get(url, params=params)\n",
    "    if response.status_code == 200:\n",
    "        articles = response.json()['articles']\n",
    "        for article in articles:\n",
    "            NewsArticles(symbol=symbol, company=companyName, title=article['title'],\n",
    "                         date=article['publishedAt'][:10], url=article['url'])\n",
    "\n",
    "def save_all_news():\n",
    "    api_key = 'aa385e54196f4d278833fd4f8b663b1e'\n",
    "    sp500 = pd.read_csv('./SP500_Companies.csv')\n",
    "    for index, row in sp500.iterrows():\n",
    "        fetch_news(api_key, row['Symbol'], row['Company'], '2024-02-01', '2024-02-29')\n",
    "\n",
    "def save_enterprise_data():\n",
    "    sp500 = pd.read_csv('./SP500_Companies.csv')\n",
    "    for index, row in sp500.iterrows():\n",
    "        stock = yf.Ticker(row['Symbol'])\n",
    "        info = stock.info\n",
    "        EnterpriseData(symbol=info.get(\"symbol\"), companyName=info.get(\"longName\"),\n",
    "                       industry=info.get(\"industry\"), sector=info.get(\"sector\"),\n",
    "                       netIncomeToCommon=info.get(\"netIncomeToCommon\", 0),\n",
    "                       totalRevenue=info.get(\"totalRevenue\", 0),\n",
    "                       ebitda=info.get(\"ebitda\", 0), totalDebt=info.get(\"totalDebt\", 0),\n",
    "                       currentRatio=info.get(\"currentRatio\", 0.0),\n",
    "                       returnOnAssets=info.get(\"returnOnAssets\", 0.0),\n",
    "                       returnOnEquity=info.get(\"returnOnEquity\", 0.0),\n",
    "                       grossMargins=info.get(\"grossMargins\", 0.0),\n",
    "                       operatingMargins=info.get(\"operatingMargins\", 0.0))\n",
    "\n",
    "def update_or_insert_company(symbol, companyName, industry, sector):\n",
    "    company = Companies.selectBy(symbol=symbol).getOne(None)\n",
    "    if company:\n",
    "        company.set(companyName=companyName, industry=industry, sector=sector)\n",
    "    else:\n",
    "        Companies(symbol=symbol, companyName=companyName,\n",
    "                  industry=industry, sector=sector)\n",
    "# 함수 호출 유지\n",
    "save_companies_data()\n",
    "save_stock_prices()\n",
    "save_all_news()\n",
    "save_enterprise_data()\n"
   ]
  },
  {
   "cell_type": "code",
   "execution_count": null,
   "id": "5e325612-2620-4456-8ea5-0ccf4cf60cac",
   "metadata": {},
   "outputs": [],
   "source": []
  }
 ],
 "metadata": {
  "kernelspec": {
   "display_name": "Python 3 (ipykernel)",
   "language": "python",
   "name": "python3"
  },
  "language_info": {
   "codemirror_mode": {
    "name": "ipython",
    "version": 3
   },
   "file_extension": ".py",
   "mimetype": "text/x-python",
   "name": "python",
   "nbconvert_exporter": "python",
   "pygments_lexer": "ipython3",
   "version": "3.11.7"
  }
 },
 "nbformat": 4,
 "nbformat_minor": 5
}
